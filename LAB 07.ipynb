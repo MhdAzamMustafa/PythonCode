{
 "cells": [
  {
   "cell_type": "code",
   "execution_count": 1,
   "id": "9d2dd3e6-c2ad-4928-8832-2bd7220f4cdd",
   "metadata": {},
   "outputs": [
    {
     "name": "stdout",
     "output_type": "stream",
     "text": [
      "AZAM MUSTAFA\n"
     ]
    }
   ],
   "source": [
    "print('AZAM MUSTAFA');"
   ]
  },
  {
   "cell_type": "code",
   "execution_count": 3,
   "id": "b8171ad2-25e8-46fb-b01c-3f106aa9d1d2",
   "metadata": {},
   "outputs": [
    {
     "name": "stdout",
     "output_type": "stream",
     "text": [
      "a + b = 10\n",
      "a - b = 0\n",
      "a * b = 25\n",
      "a / b = 1.0\n",
      "a % b = 0\n"
     ]
    }
   ],
   "source": [
    "# AZAM MUSTAFA \n",
    "# 2020-CS-089\n",
    "a = 5;\n",
    "b = 5;\n",
    "# + Operator\n",
    "plus=a+b;\n",
    "# - Operator\n",
    "minus=a-b;\n",
    "# * Operator\n",
    "multiply=a*b;\n",
    "# / Operator\n",
    "divide=a/b;\n",
    "#  Modulus\n",
    "modulus=a%b;\n",
    "print (\"a + b =\" , plus);\n",
    "print (\"a - b =\" , minus);\n",
    "print (\"a * b =\" , multiply);\n",
    "print (\"a / b =\" , divide);\n",
    "print (\"a % b =\" , modulus);"
   ]
  },
  {
   "cell_type": "code",
   "execution_count": 14,
   "id": "b1e641fd-f07f-4121-bfa8-c7652e6c9999",
   "metadata": {},
   "outputs": [
    {
     "name": "stdout",
     "output_type": "stream",
     "text": [
      "IS Operator Program : a is b\n",
      "False\n",
      "AZAM is not BASEER\n"
     ]
    }
   ],
   "source": [
    "print(\"IS Operator Program : a is b\")\n",
    "a=\"AZAM\";\n",
    "b=\"BASEER\";\n",
    "c=a is b;\n",
    "print (c);\n",
    "if(c == False):\n",
    "    print(\"AZAM is not BASEER\")\n",
    "else:\n",
    "    print(\"none of these\")"
   ]
  },
  {
   "cell_type": "code",
   "execution_count": 5,
   "id": "f08e459e-4629-4fe8-ab26-d73e0e7ff602",
   "metadata": {},
   "outputs": [
    {
     "name": "stdout",
     "output_type": "stream",
     "text": [
      "X > Y Operator Program : a > b\n"
     ]
    },
    {
     "name": "stdin",
     "output_type": "stream",
     "text": [
      "Enter Value of a:  5\n",
      "Enter Value of b:  10\n"
     ]
    },
    {
     "name": "stdout",
     "output_type": "stream",
     "text": [
      "a is greater than b\n"
     ]
    }
   ],
   "source": [
    "print(\"X > Y Operator Program : a > b\")\n",
    "a=input(\"Enter Value of a: \")\n",
    "b=input(\"Enter Value of b: \")\n",
    "if(a > b):\n",
    "    print(\"a is greater than b\")\n",
    "elif(a < b):\n",
    "    print(\"a is less then b\")\n",
    "elif(a >= b):\n",
    "    print(\"a is greater than or equal to b\")\n",
    "elif(a <= b):\n",
    "    print(\"a  is less than or equal to  b\")\n",
    "elif(a !=  b):\n",
    "    print(\"a  is less than or equal to  b\")\n",
    "elif(a == b):\n",
    "    print(\"a  is less than or equal to  b\")\n",
    "\n"
   ]
  },
  {
   "cell_type": "code",
   "execution_count": 6,
   "id": "85b0ae33-5df0-427f-b1e3-a6a6efef3e3b",
   "metadata": {},
   "outputs": [
    {
     "name": "stdout",
     "output_type": "stream",
     "text": [
      "GCD(Gratest Common Divisor)\n"
     ]
    },
    {
     "name": "stdin",
     "output_type": "stream",
     "text": [
      "Enter Value of a:  5\n",
      "Enter Value of b:  10\n"
     ]
    },
    {
     "name": "stdout",
     "output_type": "stream",
     "text": [
      "The GCD of  5 and 10 is 5\n"
     ]
    }
   ],
   "source": [
    "print(\"GCD(Gratest Common Divisor)\")\n",
    "import math\n",
    "a=input(\"Enter Value of a: \")\n",
    "b=input(\"Enter Value of b: \")\n",
    "\n",
    "gcd = math.gcd(int(a),int(b))\n",
    "print(\"The GCD of \",a, \"and\", b, \"is\", gcd)"
   ]
  },
  {
   "cell_type": "code",
   "execution_count": 7,
   "id": "d220fea2-598a-4920-bc7e-2451a4672b71",
   "metadata": {},
   "outputs": [
    {
     "name": "stdout",
     "output_type": "stream",
     "text": [
      "ASCII Code of A,B,C\n",
      "The ASCII Code of 'A','B','C' is : 65 66 67\n"
     ]
    }
   ],
   "source": [
    "print(\"ASCII Code of A,B,C\")\n",
    "import math\n",
    "a='A'\n",
    "b='B'\n",
    "c='C'\n",
    "print(\"The ASCII Code of 'A','B','C' is :\" ,ord(a),ord(b),ord(c))"
   ]
  },
  {
   "cell_type": "code",
   "execution_count": 8,
   "id": "1ba69a40-aa61-409d-a9dc-9d219e2c7399",
   "metadata": {},
   "outputs": [
    {
     "name": "stdout",
     "output_type": "stream",
     "text": [
      "The L.C.M. is 60\n"
     ]
    }
   ],
   "source": [
    "def lcm(x, y):\n",
    "\n",
    "   # choose the greater number\n",
    "   if x > y:\n",
    "       greater = x\n",
    "   else:\n",
    "       greater = y\n",
    "\n",
    "   while(True):\n",
    "       if((greater % x == 0) and (greater % y == 0)):\n",
    "           lcm = greater\n",
    "           break\n",
    "       greater += 1\n",
    "\n",
    "   return lcm\n",
    "a = 15\n",
    "b = 20\n",
    "print(\"The L.C.M. is\", lcm(a, b))"
   ]
  },
  {
   "cell_type": "code",
   "execution_count": 9,
   "id": "d1a20da6-f414-4663-a1a2-79ec27ede348",
   "metadata": {},
   "outputs": [
    {
     "name": "stdout",
     "output_type": "stream",
     "text": [
      "Even & ODD Functions\n"
     ]
    },
    {
     "name": "stdin",
     "output_type": "stream",
     "text": [
      "Enter number 15\n"
     ]
    },
    {
     "name": "stdout",
     "output_type": "stream",
     "text": [
      "The provided num is odd\n"
     ]
    }
   ],
   "source": [
    "print(\"Even & ODD Functions\")\n",
    "num = int (input (\"Enter number\"))\n",
    "\n",
    "if (num % 2) == 0:\n",
    "    print (\"The num is even\")\n",
    "\n",
    "else:\n",
    "    print (\"The provided num is odd\")"
   ]
  },
  {
   "cell_type": "code",
   "execution_count": 10,
   "id": "9e41196b-c1d3-4d3f-b319-1c510b7e9d70",
   "metadata": {},
   "outputs": [
    {
     "name": "stdout",
     "output_type": "stream",
     "text": [
      "Arithmetic mean of any three numbers.\n",
      "34.666666666666664\n"
     ]
    }
   ],
   "source": [
    "print(\"Arithmetic mean of any three numbers.\")\n",
    "X=15\n",
    "Y=22\n",
    "Z=67\n",
    "\n",
    "MEAN=(X+Y+Z)/3\n",
    "print(MEAN)\n"
   ]
  },
  {
   "cell_type": "code",
   "execution_count": 11,
   "id": "277b406f-32a6-4684-9c6b-7bfd2439dcd2",
   "metadata": {},
   "outputs": [
    {
     "name": "stdout",
     "output_type": "stream",
     "text": [
      "power of a number\n"
     ]
    },
    {
     "name": "stdin",
     "output_type": "stream",
     "text": [
      "Enter Value of a:  15\n",
      "Enter Value of a:  20\n"
     ]
    },
    {
     "name": "stdout",
     "output_type": "stream",
     "text": [
      "The powerofcode of  15 ^ 20 is 332525673007965087890625\n"
     ]
    }
   ],
   "source": [
    "print(\"power of a number\")\n",
    "import math\n",
    "a=input(\"Enter Value of a: \")\n",
    "n=input(\"Enter Value of a: \")\n",
    "powerofcode = int(a)**int(n)\n",
    "print(\"The powerofcode of \",a, \"^\", n, \"is\", powerofcode)"
   ]
  },
  {
   "cell_type": "code",
   "execution_count": 12,
   "id": "1446173e-7199-4b73-b76f-fd99cab7f196",
   "metadata": {},
   "outputs": [
    {
     "name": "stdin",
     "output_type": "stream",
     "text": [
      "Enter a number:  5\n"
     ]
    },
    {
     "name": "stdout",
     "output_type": "stream",
     "text": [
      "The factorial of 5 is 120\n"
     ]
    }
   ],
   "source": [
    "a = int(input(\"Enter a number: \"))    \n",
    "factorial = 1    \n",
    "if a < 0:    \n",
    "   print(\"Negative number not a factorial\")    \n",
    "elif a == 0:    \n",
    "   print(\"The factorial of 0 is 1\")    \n",
    "else:    \n",
    "   for i in range(1,a + 1):    \n",
    "       factorial = factorial*i    \n",
    "   print(\"The factorial of\",a,\"is\",factorial) "
   ]
  },
  {
   "cell_type": "code",
   "execution_count": 13,
   "id": "6ca6c603-9790-4157-87eb-66e885222f62",
   "metadata": {},
   "outputs": [
    {
     "name": "stdout",
     "output_type": "stream",
     "text": [
      "Select operation.\n",
      "1.Add\n",
      "2.Subtract\n",
      "3.Multiply\n",
      "4.Divide\n",
      "5.Power\n",
      "6.Mod\n",
      "7.GCD\n"
     ]
    },
    {
     "name": "stdin",
     "output_type": "stream",
     "text": [
      "Enter choice(1/2/3/4/5/6/7):  3\n",
      "Enter first number:  5\n",
      "Enter second number:  5\n"
     ]
    },
    {
     "name": "stdout",
     "output_type": "stream",
     "text": [
      "5.0 * 5.0 = 25.0\n"
     ]
    },
    {
     "name": "stdin",
     "output_type": "stream",
     "text": [
      "Let's do next calculation? (yes/no):  no\n"
     ]
    }
   ],
   "source": [
    "def add(x, y):\n",
    "    return x + y\n",
    "# Subtracts two numbers\n",
    "def subtract(x, y):\n",
    "    return x - y\n",
    "# Multiplies two numbers\n",
    "def multiply(x, y):\n",
    "    return x * y\n",
    "# Divides two numbers\n",
    "def divide(x, y):\n",
    "    return x / y\n",
    "# Mod two numbers\n",
    "def mod(x, y):\n",
    "    return x % y\n",
    "# Hcfnaive two numbers\n",
    "def hcfnaive(x, y):\n",
    "\tif(y == 0):\n",
    "\t\treturn abs(x)\n",
    "\telse:\n",
    "\t\treturn hcfnaive(y, x % y)\n",
    "print(\"Select operation.\")\n",
    "print(\"1.Add\")\n",
    "print(\"2.Subtract\")\n",
    "print(\"3.Multiply\")\n",
    "print(\"4.Divide\")\n",
    "print(\"5.Power\")\n",
    "print(\"6.Mod\")\n",
    "print(\"7.GCD\")\n",
    "while True:\n",
    "    # take input from the user\n",
    "    choice = input(\"Enter choice(1/2/3/4/5/6/7): \")\n",
    "    # check if choice is one of the four options\n",
    "    if choice in ('1', '2', '3', '4', '5', '6', '7'):\n",
    "        try:\n",
    "            num1 = float(input(\"Enter first number: \"))\n",
    "            num2 = float(input(\"Enter second number: \"))\n",
    "        except ValueError:\n",
    "            print(\"Invalid input. Please enter a number.\")\n",
    "            continue\n",
    "        if choice == '1':\n",
    "            print(num1, \"+\", num2, \"=\", add(num1, num2))\n",
    "        elif choice == '2':\n",
    "            print(num1, \"-\", num2, \"=\", subtract(num1, num2))\n",
    "        elif choice == '3':\n",
    "            print(num1, \"*\", num2, \"=\", multiply(num1, num2))\n",
    "        elif choice == '4':\n",
    "            print(num1, \"/\", num2, \"=\", divide(num1, num2))\n",
    "        elif choice == '5':\n",
    "            print(num1, \"^\", num2, \"=\", pow(num1, num2))\n",
    "        elif choice == '6':\n",
    "            print(num1, \"%\", num2, \"=\", mod(num1, num2))\n",
    "        elif choice == '7':\n",
    "            print(\"The GCD of \",num1, \" and \",num2, \" =\", hcfnaive(num1, num2))\n",
    "        # check if user wants another calculation\n",
    "        # break the while loop if answer is no\n",
    "        next_calculation = input(\"Let's do next calculation? (yes/no): \")\n",
    "        if next_calculation == \"no\":\n",
    "          break\n",
    "    else:\n",
    "        print(\"Invalid Input\")"
   ]
  },
  {
   "cell_type": "code",
   "execution_count": null,
   "id": "4b17c22a-1168-4f59-86fe-68bd23d99083",
   "metadata": {},
   "outputs": [],
   "source": []
  }
 ],
 "metadata": {
  "kernelspec": {
   "display_name": "Python 3 (ipykernel)",
   "language": "python",
   "name": "python3"
  },
  "language_info": {
   "codemirror_mode": {
    "name": "ipython",
    "version": 3
   },
   "file_extension": ".py",
   "mimetype": "text/x-python",
   "name": "python",
   "nbconvert_exporter": "python",
   "pygments_lexer": "ipython3",
   "version": "3.10.4"
  }
 },
 "nbformat": 4,
 "nbformat_minor": 5
}
